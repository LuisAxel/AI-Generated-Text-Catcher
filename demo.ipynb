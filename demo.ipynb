{
 "cells": [
  {
   "cell_type": "markdown",
   "id": "639b8d3c-f5a2-4d5a-9f7d-5eb134a16d83",
   "metadata": {},
   "source": [
    "## 0.- Dependencies"
   ]
  },
  {
   "cell_type": "code",
   "execution_count": 1,
   "id": "e402af6f-1cae-4e28-b1d0-6828db7bbd6e",
   "metadata": {},
   "outputs": [],
   "source": [
    "from demo_utils import load_model_and_tokenizer, DistilBERTClass, test_essay\n",
    "import torch\n",
    "import warnings\n",
    "warnings.simplefilter('ignore')"
   ]
  },
  {
   "cell_type": "markdown",
   "id": "73f4429c-1aee-4233-b6f6-3051c571b4e9",
   "metadata": {},
   "source": [
    "## 1.- Loading model and tokenizer"
   ]
  },
  {
   "cell_type": "code",
   "execution_count": 2,
   "id": "b786feeb-d6fd-4d85-943d-f0164cdb169d",
   "metadata": {},
   "outputs": [],
   "source": [
    "vocab_file = './models/vocab_distilbert_writings.bin'\n",
    "model_file = './models/pytorch_distilbert_writings.bin'"
   ]
  },
  {
   "cell_type": "code",
   "execution_count": 3,
   "id": "16ec2c32-8747-4de9-ab16-93270238dd92",
   "metadata": {},
   "outputs": [
    {
     "name": "stdout",
     "output_type": "stream",
     "text": [
      "cuda:0\n"
     ]
    }
   ],
   "source": [
    "device = torch.device('cuda:0' if torch.cuda.is_available() else 'cpu')\n",
    "print(device)"
   ]
  },
  {
   "cell_type": "code",
   "execution_count": 4,
   "id": "2b888264-2164-46f6-9188-215be9df3dee",
   "metadata": {},
   "outputs": [
    {
     "data": {
      "text/plain": [
       "DistilBERTClass(\n",
       "  (l1): DistilBertModel(\n",
       "    (embeddings): Embeddings(\n",
       "      (word_embeddings): Embedding(30522, 768, padding_idx=0)\n",
       "      (position_embeddings): Embedding(512, 768)\n",
       "      (LayerNorm): LayerNorm((768,), eps=1e-12, elementwise_affine=True)\n",
       "      (dropout): Dropout(p=0.1, inplace=False)\n",
       "    )\n",
       "    (transformer): Transformer(\n",
       "      (layer): ModuleList(\n",
       "        (0-5): 6 x TransformerBlock(\n",
       "          (attention): MultiHeadSelfAttention(\n",
       "            (dropout): Dropout(p=0.1, inplace=False)\n",
       "            (q_lin): Linear(in_features=768, out_features=768, bias=True)\n",
       "            (k_lin): Linear(in_features=768, out_features=768, bias=True)\n",
       "            (v_lin): Linear(in_features=768, out_features=768, bias=True)\n",
       "            (out_lin): Linear(in_features=768, out_features=768, bias=True)\n",
       "          )\n",
       "          (sa_layer_norm): LayerNorm((768,), eps=1e-12, elementwise_affine=True)\n",
       "          (ffn): FFN(\n",
       "            (dropout): Dropout(p=0.1, inplace=False)\n",
       "            (lin1): Linear(in_features=768, out_features=3072, bias=True)\n",
       "            (lin2): Linear(in_features=3072, out_features=768, bias=True)\n",
       "            (activation): GELUActivation()\n",
       "          )\n",
       "          (output_layer_norm): LayerNorm((768,), eps=1e-12, elementwise_affine=True)\n",
       "        )\n",
       "      )\n",
       "    )\n",
       "  )\n",
       "  (pre_classifier): Linear(in_features=768, out_features=768, bias=True)\n",
       "  (dropout): Dropout(p=0.3, inplace=False)\n",
       "  (classifier): Linear(in_features=768, out_features=1, bias=True)\n",
       "  (sigmoid): Sigmoid()\n",
       ")"
      ]
     },
     "execution_count": 4,
     "metadata": {},
     "output_type": "execute_result"
    }
   ],
   "source": [
    "model, tokenizer = load_model_and_tokenizer(model_file, vocab_file)\n",
    "model.to(device)\n",
    "model.eval()"
   ]
  },
  {
   "cell_type": "markdown",
   "id": "20bec1c8-8414-4c90-97e8-abcb8355d813",
   "metadata": {},
   "source": [
    "## 2.- Using the model"
   ]
  },
  {
   "cell_type": "code",
   "execution_count": 5,
   "id": "2a80ac41-d026-48ec-860c-ed7f6c2b47a6",
   "metadata": {},
   "outputs": [
    {
     "data": {
      "text/plain": [
       "'They Kicked the boy out of his band and since it was the only thing he had as a job he was forced to look for a job in a school but he had no other speciality tan music so he had to pretend to be a math/sience teacher So he could work as a \"teacher”. One day he saw that his students played instruments so well, and that\\'s where it started all Would he prefer to teach them math/sience or music? After posing as a teacher and seeng how well his students played music, he decided to descover each one ability, literally this kids can play rock music.Maybe he thought “If they kicked me out of of the band I was in, why don\\'t I make my own band\"? Or maybe he just did it because music was his passion. But he has to continue keeping the secret were they going to find out what he did? what would happen if they did? The students were confused out first, but then they started to like it and with their imagination and ideas they create some Incredible things, each one has incredible qualities that can be seen during the movie, that \"teacher\" was crazy!! and everything is going well until... of course there has to be a problem, I think he didn\\'t fully think about what parents say, or what EVERYONE Would say when they discovered what he was hiding. But when they demonstrated their talent a stage after secretly entering to on a a competition, the parents realized their children talent and had no problems.'"
      ]
     },
     "execution_count": 5,
     "metadata": {},
     "output_type": "execute_result"
    }
   ],
   "source": [
    "essay = \"\"\"They Kicked the boy out of his band and since it was the only thing he had as a job he was forced to look for a job in a school but he had no other speciality tan music so he had to pretend to be a math/sience teacher So he could work as a \"teacher”. One day he saw that his students played instruments so well, and that's where it started all Would he prefer to teach them math/sience or music? After posing as a teacher and seeng how well his students played music, he decided to descover each one ability, literally this kids can play rock music.Maybe he thought “If they kicked me out of of the band I was in, why don't I make my own band\"? Or maybe he just did it because music was his passion. But he has to continue keeping the secret were they going to find out what he did? what would happen if they did? The students were confused out first, but then they started to like it and with their imagination and ideas they create some Incredible things, each one has incredible qualities that can be seen during the movie, that \"teacher\" was crazy!! and everything is going well until... of course there has to be a problem, I think he didn't fully think about what parents say, or what EVERYONE Would say when they discovered what he was hiding. But when they demonstrated their talent a stage after secretly entering to on a a competition, the parents realized their children talent and had no problems.\"\"\"\n",
    "essay"
   ]
  },
  {
   "cell_type": "code",
   "execution_count": 6,
   "id": "a56631a5-5678-4e47-a8a8-80e2c50de167",
   "metadata": {},
   "outputs": [
    {
     "name": "stdout",
     "output_type": "stream",
     "text": [
      "[0.987672746181488, 0.400265634059906, 0.9660232663154602, 0.9878237247467041, 0.9740120768547058, 0.977770984172821, 0.9882457256317139, 0.920465886592865, 0.9891541600227356, 0.45506706833839417, 0.9806808829307556, 0.9547608494758606, 0.4412679672241211, 0.5430675745010376]\n"
     ]
    }
   ],
   "source": [
    "pred = test_essay(essay, model, tokenizer, 20, device)\n",
    "print([tensor.item() for tensor in pred])"
   ]
  },
  {
   "cell_type": "code",
   "execution_count": 7,
   "id": "7399a2ac-bce0-4b66-a5d6-8f2853c73161",
   "metadata": {},
   "outputs": [
    {
     "name": "stdout",
     "output_type": "stream",
     "text": [
      "Predicted percentages:\n",
      "Authentic:82.62% Generated: 17.38%\n"
     ]
    }
   ],
   "source": [
    "average_prediction = sum(pred) / len(pred)\n",
    "percentage = average_prediction * 100\n",
    "print(f\"Predicted percentages:\\nAuthentic:{percentage:.2f}% Generated: {100 - percentage:.2f}%\")"
   ]
  }
 ],
 "metadata": {
  "kernelspec": {
   "display_name": "Python 3 (ipykernel)",
   "language": "python",
   "name": "python3"
  },
  "language_info": {
   "codemirror_mode": {
    "name": "ipython",
    "version": 3
   },
   "file_extension": ".py",
   "mimetype": "text/x-python",
   "name": "python",
   "nbconvert_exporter": "python",
   "pygments_lexer": "ipython3",
   "version": "3.10.12"
  }
 },
 "nbformat": 4,
 "nbformat_minor": 5
}
