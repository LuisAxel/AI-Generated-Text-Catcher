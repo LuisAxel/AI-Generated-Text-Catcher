{
 "cells": [
  {
   "cell_type": "markdown",
   "id": "ef129964-3985-4dcd-b856-566e983c9237",
   "metadata": {},
   "source": [
    "# Text classification with DistilBERT"
   ]
  },
  {
   "cell_type": "code",
   "execution_count": 1,
   "id": "6177d2ad-e8ce-41a8-b342-b79b32bf3f1f",
   "metadata": {},
   "outputs": [
    {
     "data": {
      "text/plain": [
       "('2.4.0+cu121', '4.44.0')"
      ]
     },
     "execution_count": 1,
     "metadata": {},
     "output_type": "execute_result"
    }
   ],
   "source": [
    "import os\n",
    "import pandas as pd\n",
    "import string\n",
    "import time\n",
    "import tqdm\n",
    "import torch\n",
    "import transformers\n",
    "import warnings\n",
    "warnings.simplefilter('ignore')\n",
    "\n",
    "torch.__version__, transformers.__version__"
   ]
  },
  {
   "cell_type": "markdown",
   "id": "8ab37e0b-0e9b-4fc4-99fb-c555e23e26c1",
   "metadata": {},
   "source": [
    "## 1.- Dataset"
   ]
  },
  {
   "cell_type": "code",
   "execution_count": 2,
   "id": "7d45b77d-90e8-4720-b49c-f8b4678c6086",
   "metadata": {},
   "outputs": [],
   "source": [
    "# Load the ods file\n",
    "input_file = './data/processed.ods'\n",
    "df = pd.read_excel(input_file, engine=\"odf\")"
   ]
  },
  {
   "cell_type": "markdown",
   "id": "23a63632-8adc-4341-8c38-ddac19bac9c4",
   "metadata": {},
   "source": [
    "- Explore dataset"
   ]
  },
  {
   "cell_type": "code",
   "execution_count": 3,
   "id": "0f736ba6-aeb5-4580-91d5-a4966fa3e10c",
   "metadata": {},
   "outputs": [
    {
     "data": {
      "text/html": [
       "<div>\n",
       "<style scoped>\n",
       "    .dataframe tbody tr th:only-of-type {\n",
       "        vertical-align: middle;\n",
       "    }\n",
       "\n",
       "    .dataframe tbody tr th {\n",
       "        vertical-align: top;\n",
       "    }\n",
       "\n",
       "    .dataframe thead th {\n",
       "        text-align: right;\n",
       "    }\n",
       "</style>\n",
       "<table border=\"1\" class=\"dataframe\">\n",
       "  <thead>\n",
       "    <tr style=\"text-align: right;\">\n",
       "      <th></th>\n",
       "      <th>text</th>\n",
       "      <th>label</th>\n",
       "    </tr>\n",
       "  </thead>\n",
       "  <tbody>\n",
       "    <tr>\n",
       "      <th>0</th>\n",
       "      <td>San Jose in California 1903, Ms Winchester is ...</td>\n",
       "      <td>1</td>\n",
       "    </tr>\n",
       "    <tr>\n",
       "      <th>1</th>\n",
       "      <td>so they will make some business. So they look ...</td>\n",
       "      <td>1</td>\n",
       "    </tr>\n",
       "    <tr>\n",
       "      <th>2</th>\n",
       "      <td>so she couldn’t own that house. After a while ...</td>\n",
       "      <td>1</td>\n",
       "    </tr>\n",
       "    <tr>\n",
       "      <th>3</th>\n",
       "      <td>the mansion, also the ghost poseer the child o...</td>\n",
       "      <td>1</td>\n",
       "    </tr>\n",
       "    <tr>\n",
       "      <th>4</th>\n",
       "      <td>that the ms winchester did in the past, or the...</td>\n",
       "      <td>1</td>\n",
       "    </tr>\n",
       "  </tbody>\n",
       "</table>\n",
       "</div>"
      ],
      "text/plain": [
       "                                                text  label\n",
       "0  San Jose in California 1903, Ms Winchester is ...      1\n",
       "1  so they will make some business. So they look ...      1\n",
       "2  so she couldn’t own that house. After a while ...      1\n",
       "3  the mansion, also the ghost poseer the child o...      1\n",
       "4  that the ms winchester did in the past, or the...      1"
      ]
     },
     "execution_count": 3,
     "metadata": {},
     "output_type": "execute_result"
    }
   ],
   "source": [
    "df.head()"
   ]
  },
  {
   "cell_type": "code",
   "execution_count": 4,
   "id": "dc5c70b1-fa98-4f97-a0cd-d0f9fe75ba66",
   "metadata": {},
   "outputs": [
    {
     "data": {
      "text/html": [
       "<div>\n",
       "<style scoped>\n",
       "    .dataframe tbody tr th:only-of-type {\n",
       "        vertical-align: middle;\n",
       "    }\n",
       "\n",
       "    .dataframe tbody tr th {\n",
       "        vertical-align: top;\n",
       "    }\n",
       "\n",
       "    .dataframe thead th {\n",
       "        text-align: right;\n",
       "    }\n",
       "</style>\n",
       "<table border=\"1\" class=\"dataframe\">\n",
       "  <thead>\n",
       "    <tr style=\"text-align: right;\">\n",
       "      <th></th>\n",
       "      <th>text</th>\n",
       "      <th>label</th>\n",
       "    </tr>\n",
       "  </thead>\n",
       "  <tbody>\n",
       "    <tr>\n",
       "      <th>465</th>\n",
       "      <td>song. However, the truth comes out that Dewey ...</td>\n",
       "      <td>0</td>\n",
       "    </tr>\n",
       "    <tr>\n",
       "      <th>466</th>\n",
       "      <td>leads to attempts to arrest him, and Dewey apo...</td>\n",
       "      <td>0</td>\n",
       "    </tr>\n",
       "    <tr>\n",
       "      <th>467</th>\n",
       "      <td>competition, playing a song written by one of ...</td>\n",
       "      <td>0</td>\n",
       "    </tr>\n",
       "    <tr>\n",
       "      <th>468</th>\n",
       "      <td>parents, who chant “School of Rock,” leads Dew...</td>\n",
       "      <td>0</td>\n",
       "    </tr>\n",
       "    <tr>\n",
       "      <th>469</th>\n",
       "      <td>high note.</td>\n",
       "      <td>0</td>\n",
       "    </tr>\n",
       "  </tbody>\n",
       "</table>\n",
       "</div>"
      ],
      "text/plain": [
       "                                                  text  label\n",
       "465  song. However, the truth comes out that Dewey ...      0\n",
       "466  leads to attempts to arrest him, and Dewey apo...      0\n",
       "467  competition, playing a song written by one of ...      0\n",
       "468  parents, who chant “School of Rock,” leads Dew...      0\n",
       "469                                         high note.      0"
      ]
     },
     "execution_count": 4,
     "metadata": {},
     "output_type": "execute_result"
    }
   ],
   "source": [
    "df.tail()"
   ]
  },
  {
   "cell_type": "code",
   "execution_count": 5,
   "id": "10b92670-8608-44ed-b940-a86b38d6fd5c",
   "metadata": {},
   "outputs": [
    {
     "data": {
      "text/plain": [
       "array([1, 0])"
      ]
     },
     "execution_count": 5,
     "metadata": {},
     "output_type": "execute_result"
    }
   ],
   "source": [
    "df['label'].unique()"
   ]
  },
  {
   "cell_type": "code",
   "execution_count": 6,
   "id": "6fbce0dd-4174-451d-aff8-2d6bb1d25583",
   "metadata": {},
   "outputs": [
    {
     "data": {
      "text/plain": [
       "label\n",
       "0    240\n",
       "1    230\n",
       "Name: count, dtype: int64"
      ]
     },
     "execution_count": 6,
     "metadata": {},
     "output_type": "execute_result"
    }
   ],
   "source": [
    "df['label'].value_counts()"
   ]
  },
  {
   "cell_type": "markdown",
   "id": "feb28909-4cbc-40a9-be15-075509dcaf16",
   "metadata": {},
   "source": [
    "- Remove special characters and transform to lowercase"
   ]
  },
  {
   "cell_type": "code",
   "execution_count": 7,
   "id": "94327ccd-2c5a-4657-8872-58c8cf76780d",
   "metadata": {},
   "outputs": [
    {
     "data": {
      "text/html": [
       "<div>\n",
       "<style scoped>\n",
       "    .dataframe tbody tr th:only-of-type {\n",
       "        vertical-align: middle;\n",
       "    }\n",
       "\n",
       "    .dataframe tbody tr th {\n",
       "        vertical-align: top;\n",
       "    }\n",
       "\n",
       "    .dataframe thead th {\n",
       "        text-align: right;\n",
       "    }\n",
       "</style>\n",
       "<table border=\"1\" class=\"dataframe\">\n",
       "  <thead>\n",
       "    <tr style=\"text-align: right;\">\n",
       "      <th></th>\n",
       "      <th>text</th>\n",
       "      <th>label</th>\n",
       "    </tr>\n",
       "  </thead>\n",
       "  <tbody>\n",
       "    <tr>\n",
       "      <th>0</th>\n",
       "      <td>san jose in california 1903 ms winchester is t...</td>\n",
       "      <td>1</td>\n",
       "    </tr>\n",
       "    <tr>\n",
       "      <th>1</th>\n",
       "      <td>so they will make some business so they look f...</td>\n",
       "      <td>1</td>\n",
       "    </tr>\n",
       "    <tr>\n",
       "      <th>2</th>\n",
       "      <td>so she couldn’t own that house after a while i...</td>\n",
       "      <td>1</td>\n",
       "    </tr>\n",
       "    <tr>\n",
       "      <th>3</th>\n",
       "      <td>the mansion also the ghost poseer the child of...</td>\n",
       "      <td>1</td>\n",
       "    </tr>\n",
       "    <tr>\n",
       "      <th>4</th>\n",
       "      <td>that the ms winchester did in the past or the ...</td>\n",
       "      <td>1</td>\n",
       "    </tr>\n",
       "  </tbody>\n",
       "</table>\n",
       "</div>"
      ],
      "text/plain": [
       "                                                text  label\n",
       "0  san jose in california 1903 ms winchester is t...      1\n",
       "1  so they will make some business so they look f...      1\n",
       "2  so she couldn’t own that house after a while i...      1\n",
       "3  the mansion also the ghost poseer the child of...      1\n",
       "4  that the ms winchester did in the past or the ...      1"
      ]
     },
     "execution_count": 7,
     "metadata": {},
     "output_type": "execute_result"
    }
   ],
   "source": [
    "df['text'] = df['text'].str.lower().str.translate(str.maketrans('', '', string.punctuation))\n",
    "df.head()"
   ]
  },
  {
   "cell_type": "markdown",
   "id": "da27be14-5730-477e-830d-1a381eb8988f",
   "metadata": {},
   "source": [
    "## 2.- Pipeline"
   ]
  },
  {
   "cell_type": "code",
   "execution_count": 8,
   "id": "3676d44b-b644-446f-9f40-51823a645344",
   "metadata": {},
   "outputs": [],
   "source": [
    "maxlen = 20\n",
    "batch_size = 4 # Dataset only has 470 sentences of at most 20 words each\n",
    "\n",
    "tokenizer = transformers.DistilBertTokenizer.from_pretrained('distilbert-base-uncased', truncation=True, do_lower_case=True)"
   ]
  },
  {
   "cell_type": "code",
   "execution_count": 9,
   "id": "beb084bc-8526-46cc-81a2-03025e8c436c",
   "metadata": {},
   "outputs": [],
   "source": [
    "class LabelDataset(torch.utils.data.Dataset):\n",
    "    def __init__(self, dataframe, tokenizer, max_len):\n",
    "        self.tokenizer = tokenizer\n",
    "        self.data = dataframe\n",
    "        self.text = dataframe.text\n",
    "        self.targets = self.data.label.astype(float)\n",
    "        self.max_len = max_len\n",
    "\n",
    "    def __len__(self):\n",
    "        return len(self.text)\n",
    "\n",
    "    def __getitem__(self, index):\n",
    "        text = str(self.text[index])\n",
    "        text = \" \".join(text.split())\n",
    "\n",
    "        inputs = self.tokenizer.encode_plus(\n",
    "            text,\n",
    "            None,\n",
    "            add_special_tokens=True,\n",
    "            max_length=self.max_len,\n",
    "            pad_to_max_length=True,\n",
    "            return_token_type_ids=True,\n",
    "            truncation=True\n",
    "        )\n",
    "        ids = inputs['input_ids']\n",
    "        mask = inputs['attention_mask']\n",
    "        token_type_ids = inputs[\"token_type_ids\"]\n",
    "\n",
    "        return {\n",
    "            'ids': torch.tensor(ids, dtype=torch.long),\n",
    "            'mask': torch.tensor(mask, dtype=torch.long),\n",
    "            'token_type_ids': torch.tensor(token_type_ids, dtype=torch.long),\n",
    "            'targets': torch.tensor(self.targets[index], dtype=torch.float)\n",
    "        }"
   ]
  },
  {
   "cell_type": "code",
   "execution_count": 10,
   "id": "01d62705-8045-450d-88b4-7c04dacf9ee0",
   "metadata": {},
   "outputs": [
    {
     "data": {
      "text/plain": [
       "(400, 70)"
      ]
     },
     "execution_count": 10,
     "metadata": {},
     "output_type": "execute_result"
    }
   ],
   "source": [
    "train_size = 0.85\n",
    "train_data = df.sample(frac=train_size,random_state=123)\n",
    "test_data = df.drop(train_data.index).reset_index(drop=True)\n",
    "train_data = train_data.reset_index(drop=True)\n",
    "\n",
    "train_data = LabelDataset(train_data, tokenizer, maxlen)\n",
    "test_data = LabelDataset(test_data, tokenizer, maxlen)\n",
    "len(train_data), len(test_data)"
   ]
  },
  {
   "cell_type": "code",
   "execution_count": 11,
   "id": "de6dae0e-eef8-4e34-b84b-6a33629acc05",
   "metadata": {},
   "outputs": [],
   "source": [
    "train_params = {'batch_size': batch_size,\n",
    "                'shuffle': True,\n",
    "                'num_workers': 0\n",
    "                }\n",
    "\n",
    "test_params = {'batch_size': batch_size,\n",
    "               'num_workers': 0\n",
    "               }\n",
    "\n",
    "train_loader = torch.utils.data.DataLoader(train_data, **train_params)\n",
    "test_loader = torch.utils.data.DataLoader(test_data, **test_params)"
   ]
  },
  {
   "cell_type": "code",
   "execution_count": 12,
   "id": "84745acb-6d82-48cb-8b2d-cb8c9cfea631",
   "metadata": {},
   "outputs": [],
   "source": [
    "train_batch = next(iter(train_loader))"
   ]
  },
  {
   "cell_type": "code",
   "execution_count": 13,
   "id": "900e37c2-8afc-4fe3-a928-425e17f00e03",
   "metadata": {},
   "outputs": [
    {
     "data": {
      "text/plain": [
       "{'ids': tensor([[  101,  1996, 12841,  3185,  2003,  1037,  5469,  3185,  2013,  2760,\n",
       "           2009,  2003, 17093,  2098,  1999,  2624,  4560,  2662,  5518,   102],\n",
       "         [  101,  2028,  2305, 22841,  2015,  3338,  2046,  1996,  3232,  1521,\n",
       "           1055,  2188,  1998,  2886,  2068,  2076,  1996,  6101,  2668,   102],\n",
       "         [  101,  3602,  2007, 20309,  5719,  2000,  6570,  2600,  2189,  1999,\n",
       "           2019,  2044, 11624, 13669,  2565, 14828,  1037,  2047,  2927,   102],\n",
       "         [  101, 15670,  1996,  3129,  2008,  1996,  4763,  9178, 11014,  1996,\n",
       "           2564,  1521,  1055,  3969,  2043,  1996,  3129,  5363,  2000,   102]]),\n",
       " 'mask': tensor([[1, 1, 1, 1, 1, 1, 1, 1, 1, 1, 1, 1, 1, 1, 1, 1, 1, 1, 1, 1],\n",
       "         [1, 1, 1, 1, 1, 1, 1, 1, 1, 1, 1, 1, 1, 1, 1, 1, 1, 1, 1, 1],\n",
       "         [1, 1, 1, 1, 1, 1, 1, 1, 1, 1, 1, 1, 1, 1, 1, 1, 1, 1, 1, 1],\n",
       "         [1, 1, 1, 1, 1, 1, 1, 1, 1, 1, 1, 1, 1, 1, 1, 1, 1, 1, 1, 1]]),\n",
       " 'token_type_ids': tensor([[0, 0, 0, 0, 0, 0, 0, 0, 0, 0, 0, 0, 0, 0, 0, 0, 0, 0, 0, 0],\n",
       "         [0, 0, 0, 0, 0, 0, 0, 0, 0, 0, 0, 0, 0, 0, 0, 0, 0, 0, 0, 0],\n",
       "         [0, 0, 0, 0, 0, 0, 0, 0, 0, 0, 0, 0, 0, 0, 0, 0, 0, 0, 0, 0],\n",
       "         [0, 0, 0, 0, 0, 0, 0, 0, 0, 0, 0, 0, 0, 0, 0, 0, 0, 0, 0, 0]]),\n",
       " 'targets': tensor([1., 0., 0., 0.])}"
      ]
     },
     "execution_count": 13,
     "metadata": {},
     "output_type": "execute_result"
    }
   ],
   "source": [
    "train_batch"
   ]
  },
  {
   "cell_type": "markdown",
   "id": "f3b34d0d-f8e6-4b0d-8f27-064ba10eb1db",
   "metadata": {},
   "source": [
    "## 3.- Model"
   ]
  },
  {
   "cell_type": "code",
   "execution_count": 14,
   "id": "94ebd5de-204b-4bc7-bd8a-6bb9e837935e",
   "metadata": {},
   "outputs": [
    {
     "data": {
      "text/plain": [
       "tensor([[0.4675],\n",
       "        [0.5814],\n",
       "        [0.4844],\n",
       "        [0.4889]], grad_fn=<SigmoidBackward0>)"
      ]
     },
     "execution_count": 14,
     "metadata": {},
     "output_type": "execute_result"
    }
   ],
   "source": [
    "class DistilBERTClass(torch.nn.Module):\n",
    "    def __init__(self):\n",
    "        super(DistilBERTClass, self).__init__()\n",
    "        self.l1 = transformers.DistilBertModel.from_pretrained(\"distilbert-base-uncased\")\n",
    "        self.pre_classifier = torch.nn.Linear(768, 768)\n",
    "        self.dropout = torch.nn.Dropout(0.3)\n",
    "        self.classifier = torch.nn.Linear(768, 1)\n",
    "        self.sigmoid = torch.nn.Sigmoid()\n",
    "\n",
    "    def forward(self, input_ids, attention_mask, token_type_ids):\n",
    "        output_1 = self.l1(input_ids=input_ids, attention_mask=attention_mask)\n",
    "        \n",
    "        hidden_state = output_1[0]\n",
    "        pooler = hidden_state[:, 0]\n",
    "        pooler = self.pre_classifier(pooler)\n",
    "\n",
    "        pooler = torch.nn.Tanh()(pooler)\n",
    "        pooler = self.dropout(pooler)\n",
    "        output = self.classifier(pooler)\n",
    "        output = self.sigmoid(output)\n",
    "        return output\n",
    "\n",
    "ids = train_batch['ids']\n",
    "mask = train_batch['mask']\n",
    "token_type_ids = train_batch['token_type_ids']\n",
    "targets = train_batch['targets']\n",
    "\n",
    "model = DistilBERTClass()\n",
    "outputs = model(ids, mask, token_type_ids)\n",
    "outputs"
   ]
  },
  {
   "cell_type": "code",
   "execution_count": 15,
   "id": "9d11ccd8-3523-46fe-9759-6cff6e52f5ed",
   "metadata": {},
   "outputs": [
    {
     "name": "stdout",
     "output_type": "stream",
     "text": [
      "cuda:0\n"
     ]
    }
   ],
   "source": [
    "device = torch.device('cuda:0' if torch.cuda.is_available() else 'cpu')\n",
    "print(device)"
   ]
  },
  {
   "cell_type": "code",
   "execution_count": 16,
   "id": "7507855d-28c6-475c-bb0e-9840935c8bde",
   "metadata": {},
   "outputs": [],
   "source": [
    "model.to(device)\n",
    "lr = 1e-05\n",
    "loss_fn = torch.nn.BCELoss()\n",
    "optimizer = torch.optim.Adam(model.parameters(), lr=lr)"
   ]
  },
  {
   "cell_type": "markdown",
   "id": "60e76122-6893-4580-98d9-a691a2635df7",
   "metadata": {},
   "source": [
    "## 4.- Training"
   ]
  },
  {
   "cell_type": "code",
   "execution_count": 17,
   "id": "747db2e8-eb75-472e-a1e9-e8e5b25d0b80",
   "metadata": {},
   "outputs": [],
   "source": [
    "def test(model, device, test_loader):\n",
    "    start = time.time()\n",
    "    running_loss = 0.0\n",
    "    running_acc = 0.0\n",
    "    with torch.no_grad():\n",
    "        model.eval()\n",
    "        for data in test_loader:\n",
    "            ids = data['ids'].to(device)\n",
    "            mask = data['mask'].to(device)\n",
    "            token_type_ids = data['token_type_ids'].to(device)\n",
    "            labels = data['targets'].to(device)\n",
    "\n",
    "            outputs = model(ids, mask, token_type_ids)\n",
    "            outputs = outputs.squeeze()\n",
    "            \n",
    "            loss = loss_fn(outputs, labels)\n",
    "\n",
    "            running_loss += loss.item()\n",
    "            preds = outputs.round() \n",
    "            running_acc += (preds == labels).sum().item() \n",
    "\n",
    "    val_acc = running_acc / len(test_loader.dataset)\n",
    "    print(f'Time for eval is {time.time()-start:.4f} sec Val loss: {running_loss / len(test_loader):.4f}')\n",
    "    print(f'Val acc: {val_acc:.4f}')\n",
    "    return val_acc"
   ]
  },
  {
   "cell_type": "code",
   "execution_count": 18,
   "id": "ec9a99c0-01cb-4129-b47e-99b78f48b041",
   "metadata": {},
   "outputs": [
    {
     "data": {
      "text/plain": [
       "400"
      ]
     },
     "execution_count": 18,
     "metadata": {},
     "output_type": "execute_result"
    }
   ],
   "source": [
    "len(train_loader.dataset)"
   ]
  },
  {
   "cell_type": "code",
   "execution_count": 19,
   "id": "40f333db-97e0-490e-95eb-ccf98d10945b",
   "metadata": {},
   "outputs": [],
   "source": [
    "def train(epoch, train_loader, test_loader, interval=300):\n",
    "    running_loss = 0.0\n",
    "    model.train()\n",
    "    for _, data in tqdm.tqdm(enumerate(train_loader, 0)):\n",
    "        ids = data['ids'].to(device)\n",
    "        mask = data['mask'].to(device)\n",
    "        token_type_ids = data['token_type_ids'].to(device)\n",
    "        labels = data['targets'].to(device)\n",
    "\n",
    "        optimizer.zero_grad()\n",
    "        \n",
    "        outputs = model(ids, mask, token_type_ids)\n",
    "        outputs = outputs.squeeze()\n",
    "        loss = loss_fn(outputs, labels)\n",
    "        loss.backward()\n",
    "        optimizer.step()\n",
    "        \n",
    "        running_loss += loss.item()\n",
    "        if _ % interval == 0:\n",
    "            print(f'Train loss: {loss.item():.4f}')\n",
    "            val_acc = test(model, device, test_loader)\n",
    "            if val_acc > 0.82:\n",
    "                break"
   ]
  },
  {
   "cell_type": "code",
   "execution_count": 20,
   "id": "756fdd09-aab5-44c0-83dc-c3a2c6fd3b3b",
   "metadata": {},
   "outputs": [],
   "source": [
    "epochs = 10"
   ]
  },
  {
   "cell_type": "code",
   "execution_count": 21,
   "id": "4abc5ec2-9cbf-4991-80fc-56b6653ebbd0",
   "metadata": {},
   "outputs": [
    {
     "name": "stderr",
     "output_type": "stream",
     "text": [
      "5it [00:00, 16.65it/s]"
     ]
    },
    {
     "name": "stdout",
     "output_type": "stream",
     "text": [
      "Train loss: 0.7028\n",
      "Time for eval is 0.0670 sec Val loss: 0.6987\n",
      "Val acc: 0.4714\n"
     ]
    },
    {
     "name": "stderr",
     "output_type": "stream",
     "text": [
      "100it [00:03, 31.47it/s]\n",
      "0it [00:00, ?it/s]\n"
     ]
    },
    {
     "name": "stdout",
     "output_type": "stream",
     "text": [
      "Train loss: 0.1465\n",
      "Time for eval is 0.0675 sec Val loss: 0.3742\n",
      "Val acc: 0.8714\n"
     ]
    },
    {
     "name": "stderr",
     "output_type": "stream",
     "text": [
      "0it [00:00, ?it/s]\n"
     ]
    },
    {
     "name": "stdout",
     "output_type": "stream",
     "text": [
      "Train loss: 0.1073\n",
      "Time for eval is 0.0677 sec Val loss: 0.3732\n",
      "Val acc: 0.9000\n"
     ]
    },
    {
     "name": "stderr",
     "output_type": "stream",
     "text": [
      "0it [00:00, ?it/s]"
     ]
    },
    {
     "name": "stdout",
     "output_type": "stream",
     "text": [
      "Train loss: 0.2152\n"
     ]
    },
    {
     "name": "stderr",
     "output_type": "stream",
     "text": [
      "0it [00:00, ?it/s]\n"
     ]
    },
    {
     "name": "stdout",
     "output_type": "stream",
     "text": [
      "Time for eval is 0.0673 sec Val loss: 0.3725\n",
      "Val acc: 0.9000\n"
     ]
    },
    {
     "name": "stderr",
     "output_type": "stream",
     "text": [
      "0it [00:00, ?it/s]"
     ]
    },
    {
     "name": "stdout",
     "output_type": "stream",
     "text": [
      "Train loss: 0.1090\n"
     ]
    },
    {
     "name": "stderr",
     "output_type": "stream",
     "text": [
      "0it [00:00, ?it/s]\n"
     ]
    },
    {
     "name": "stdout",
     "output_type": "stream",
     "text": [
      "Time for eval is 0.0682 sec Val loss: 0.3725\n",
      "Val acc: 0.9000\n"
     ]
    },
    {
     "name": "stderr",
     "output_type": "stream",
     "text": [
      "0it [00:00, ?it/s]"
     ]
    },
    {
     "name": "stdout",
     "output_type": "stream",
     "text": [
      "Train loss: 0.5737\n"
     ]
    },
    {
     "name": "stderr",
     "output_type": "stream",
     "text": [
      "0it [00:00, ?it/s]\n"
     ]
    },
    {
     "name": "stdout",
     "output_type": "stream",
     "text": [
      "Time for eval is 0.0675 sec Val loss: 0.3719\n",
      "Val acc: 0.9000\n"
     ]
    },
    {
     "name": "stderr",
     "output_type": "stream",
     "text": [
      "0it [00:00, ?it/s]"
     ]
    },
    {
     "name": "stdout",
     "output_type": "stream",
     "text": [
      "Train loss: 0.1307\n"
     ]
    },
    {
     "name": "stderr",
     "output_type": "stream",
     "text": [
      "0it [00:00, ?it/s]\n"
     ]
    },
    {
     "name": "stdout",
     "output_type": "stream",
     "text": [
      "Time for eval is 0.0678 sec Val loss: 0.3706\n",
      "Val acc: 0.9000\n"
     ]
    },
    {
     "name": "stderr",
     "output_type": "stream",
     "text": [
      "0it [00:00, ?it/s]"
     ]
    },
    {
     "name": "stdout",
     "output_type": "stream",
     "text": [
      "Train loss: 0.1030\n"
     ]
    },
    {
     "name": "stderr",
     "output_type": "stream",
     "text": [
      "0it [00:00, ?it/s]\n"
     ]
    },
    {
     "name": "stdout",
     "output_type": "stream",
     "text": [
      "Time for eval is 0.0876 sec Val loss: 0.3696\n",
      "Val acc: 0.9000\n"
     ]
    },
    {
     "name": "stderr",
     "output_type": "stream",
     "text": [
      "0it [00:00, ?it/s]"
     ]
    },
    {
     "name": "stdout",
     "output_type": "stream",
     "text": [
      "Train loss: 0.1041\n"
     ]
    },
    {
     "name": "stderr",
     "output_type": "stream",
     "text": [
      "0it [00:00, ?it/s]\n"
     ]
    },
    {
     "name": "stdout",
     "output_type": "stream",
     "text": [
      "Time for eval is 0.0883 sec Val loss: 0.3691\n",
      "Val acc: 0.9000\n"
     ]
    },
    {
     "name": "stderr",
     "output_type": "stream",
     "text": [
      "0it [00:00, ?it/s]"
     ]
    },
    {
     "name": "stdout",
     "output_type": "stream",
     "text": [
      "Train loss: 0.6252\n"
     ]
    },
    {
     "name": "stderr",
     "output_type": "stream",
     "text": [
      "0it [00:00, ?it/s]"
     ]
    },
    {
     "name": "stdout",
     "output_type": "stream",
     "text": [
      "Time for eval is 0.0887 sec Val loss: 0.3707\n",
      "Val acc: 0.9000\n"
     ]
    },
    {
     "name": "stderr",
     "output_type": "stream",
     "text": [
      "\n"
     ]
    }
   ],
   "source": [
    "for epoch in range(epochs):\n",
    "    train(epoch, train_loader, test_loader)"
   ]
  },
  {
   "cell_type": "markdown",
   "id": "5739394d-9f10-4b8c-8b89-43ad82814689",
   "metadata": {},
   "source": [
    "- Remove comments to save model"
   ]
  },
  {
   "cell_type": "code",
   "execution_count": 22,
   "id": "d47d4a5d-d9b0-4eb1-bb3f-44de70078f73",
   "metadata": {},
   "outputs": [],
   "source": [
    "os.makedirs('./models/', exist_ok=True)\n",
    "output_model_file = './models/pytorch_distilbert_writings.bin'\n",
    "output_vocab_file = './models/vocab_distilbert_writings.bin'\n",
    "\n",
    "#torch.save(model, output_model_file)\n",
    "#tokenizer.save_vocabulary(output_vocab_file)"
   ]
  },
  {
   "cell_type": "markdown",
   "id": "125b4f4e-6903-45e7-ab21-8c0bdf4efb9f",
   "metadata": {},
   "source": [
    "## 5.- Testing"
   ]
  },
  {
   "cell_type": "code",
   "execution_count": 23,
   "id": "cf3eb12e-bb38-47b2-a6c6-032a5e326314",
   "metadata": {},
   "outputs": [],
   "source": [
    "def segment_text(text: str, segment_length: int = 20) -> list:\n",
    "    words = text.split()\n",
    "    segments = [(' '.join(words[i:i + segment_length])) \n",
    "                for i in range(0, len(words), segment_length)]\n",
    "    return segments"
   ]
  },
  {
   "cell_type": "code",
   "execution_count": 24,
   "id": "71e7dbe2-8518-46bd-8cb9-a5b621dc8ffb",
   "metadata": {},
   "outputs": [],
   "source": [
    "def test_essay(essay, model, tokenizer, max_len, device):\n",
    "    essay = essay.lower().translate(str.maketrans('', '', string.punctuation))\n",
    "    chunks = segment_text(essay)\n",
    "\n",
    "    model.eval()\n",
    "    all_predictions = []\n",
    "    \n",
    "    for chunk in chunks:\n",
    "        # Tokenize and prepare the chunk\n",
    "        inputs = tokenizer.encode_plus(\n",
    "            chunk,\n",
    "            None,\n",
    "            add_special_tokens=True,\n",
    "            max_length=max_len,\n",
    "            pad_to_max_length=True,\n",
    "            return_token_type_ids=True,\n",
    "            truncation=True\n",
    "        )\n",
    "        \n",
    "        ids = torch.tensor(inputs['input_ids'], dtype=torch.long).unsqueeze(0).to(device)\n",
    "        mask = torch.tensor(inputs['attention_mask'], dtype=torch.long).unsqueeze(0).to(device)\n",
    "        token_type_ids = torch.tensor(inputs['token_type_ids'], dtype=torch.long).unsqueeze(0).to(device)\n",
    "\n",
    "        with torch.no_grad():\n",
    "            outputs = model(ids, mask, token_type_ids)\n",
    "            outputs = outputs.squeeze()\n",
    "\n",
    "        predicted_prob = outputs\n",
    "        all_predictions.append(predicted_prob)\n",
    "\n",
    "    return all_predictions"
   ]
  },
  {
   "cell_type": "code",
   "execution_count": 25,
   "id": "6d2cd3ec-86c6-43aa-b91a-f3b78dc5cedf",
   "metadata": {},
   "outputs": [
    {
     "data": {
      "text/plain": [
       "'They Kicked the boy out of his band and since it was the only thing he had as a job he was forced to look for a job in a school but he had no other speciality tan music so he had to pretend to be a math/sience teacher So he could work as a \"teacher”. One day he saw that his students played instruments so well, and that\\'s where it started all Would he prefer to teach them math/sience or music? After posing as a teacher and seeng how well his students played music, he decided to descover each one ability, literally this kids can play rock music.Maybe he thought “If they kicked me out of of the band I was in, why don\\'t I make my own band\"? Or maybe he just did it because music was his passion. But he has to continue keeping the secret were they going to find out what he did? what would happen if they did? The students were confused out first, but then they started to like it and with their imagination and ideas they create some Incredible things, each one has incredible qualities that can be seen during the movie, that \"teacher\" was crazy!! and everything is going well until... of course there has to be a problem, I think he didn\\'t fully think about what parents say, or what EVERYONE Would say when they discovered what he was hiding. But when they demonstrated their talent a stage after secretly entering to on a a competition, the parents realized their children talent and had no problems.'"
      ]
     },
     "execution_count": 25,
     "metadata": {},
     "output_type": "execute_result"
    }
   ],
   "source": [
    "essay = \"\"\"They Kicked the boy out of his band and since it was the only thing he had as a job he was forced to look for a job in a school but he had no other speciality tan music so he had to pretend to be a math/sience teacher So he could work as a \"teacher”. One day he saw that his students played instruments so well, and that's where it started all Would he prefer to teach them math/sience or music? After posing as a teacher and seeng how well his students played music, he decided to descover each one ability, literally this kids can play rock music.Maybe he thought “If they kicked me out of of the band I was in, why don't I make my own band\"? Or maybe he just did it because music was his passion. But he has to continue keeping the secret were they going to find out what he did? what would happen if they did? The students were confused out first, but then they started to like it and with their imagination and ideas they create some Incredible things, each one has incredible qualities that can be seen during the movie, that \"teacher\" was crazy!! and everything is going well until... of course there has to be a problem, I think he didn't fully think about what parents say, or what EVERYONE Would say when they discovered what he was hiding. But when they demonstrated their talent a stage after secretly entering to on a a competition, the parents realized their children talent and had no problems.\"\"\"\n",
    "essay"
   ]
  },
  {
   "cell_type": "code",
   "execution_count": 26,
   "id": "9202bdd9-253c-43d8-927f-559ec255d023",
   "metadata": {},
   "outputs": [
    {
     "name": "stdout",
     "output_type": "stream",
     "text": [
      "[0.931472659111023, 0.20791824162006378, 0.5809360146522522, 0.9172549843788147, 0.8047293424606323, 0.9112629294395447, 0.942256510257721, 0.7861670255661011, 0.9451174139976501, 0.4799267053604126, 0.9055496454238892, 0.8273663520812988, 0.4947417676448822, 0.6776221394538879]\n"
     ]
    }
   ],
   "source": [
    "pred = test_essay(essay, model, tokenizer, maxlen, device)\n",
    "print([tensor.item() for tensor in pred])"
   ]
  },
  {
   "cell_type": "code",
   "execution_count": 27,
   "id": "9c3ec897-0704-48c7-9674-5e33b0b4ac72",
   "metadata": {},
   "outputs": [
    {
     "name": "stdout",
     "output_type": "stream",
     "text": [
      "Predicted percentages:\n",
      "Authentic:74.37% Generated: 25.63%\n"
     ]
    }
   ],
   "source": [
    "average_prediction = sum(pred) / len(pred)\n",
    "percentage = average_prediction * 100\n",
    "print(f\"Predicted percentages:\\nAuthentic:{percentage:.2f}% Generated: {100 - percentage:.2f}%\")"
   ]
  }
 ],
 "metadata": {
  "kernelspec": {
   "display_name": "Python 3 (ipykernel)",
   "language": "python",
   "name": "python3"
  },
  "language_info": {
   "codemirror_mode": {
    "name": "ipython",
    "version": 3
   },
   "file_extension": ".py",
   "mimetype": "text/x-python",
   "name": "python",
   "nbconvert_exporter": "python",
   "pygments_lexer": "ipython3",
   "version": "3.10.12"
  }
 },
 "nbformat": 4,
 "nbformat_minor": 5
}
