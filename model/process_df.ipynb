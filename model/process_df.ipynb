{
 "cells": [
  {
   "cell_type": "code",
   "execution_count": 1,
   "id": "ae29dfda-4358-4612-ab3e-86401bf9bbaf",
   "metadata": {},
   "outputs": [],
   "source": [
    "import pandas as pd"
   ]
  },
  {
   "cell_type": "code",
   "execution_count": 2,
   "id": "aac728c5-4cf3-40c9-bed0-ea016309c445",
   "metadata": {},
   "outputs": [],
   "source": [
    "def segment_text(text: str, label: str, segment_length: int = 20) -> list:\n",
    "    \"\"\"Assigns a label to segments of a text.\n",
    "\n",
    "    Args:\n",
    "      text: text to be segmented and labeled.\n",
    "      label: label to be used.\n",
    "      segment_length: length of segments for the text.\n",
    "\n",
    "    Returns:\n",
    "      List of tuples of segments and the label associated.\n",
    "    \"\"\"\n",
    "    words = text.split()\n",
    "    segments = [(\" \".join(words[i:i + segment_length]), label) \n",
    "                for i in range(0, len(words), segment_length)]\n",
    "    return segments"
   ]
  },
  {
   "cell_type": "code",
   "execution_count": 3,
   "id": "22baebed-4e51-4215-8372-d77fa8b3306d",
   "metadata": {},
   "outputs": [],
   "source": [
    "def process_dataframe(df: pd.DataFrame, text_col: str = 'text', label_col: str = 'label') -> pd.DataFrame:\n",
    "    \"\"\"Creates a new dataframe segmenting a text column and labeling each segment.\n",
    "\n",
    "    Args:\n",
    "      df: dataframe to be processed\n",
    "      text_col: name of text column\n",
    "      label_col: name of label column\n",
    "\n",
    "    Returns:\n",
    "      New dataframe with segmented text column\n",
    "    \"\"\"\n",
    "    segments = []\n",
    "    for _, row in df.iterrows():\n",
    "        text = row[text_col]\n",
    "        label = row[label_col]\n",
    "        segments.extend(segment_text(text, label))\n",
    "    return pd.DataFrame(segments, columns=[text_col, label_col])"
   ]
  },
  {
   "cell_type": "code",
   "execution_count": 4,
   "id": "151f96e7-8a33-410e-acb6-5c009b734414",
   "metadata": {},
   "outputs": [],
   "source": [
    "# Load the ods file\n",
    "input_file = './data/writings.ods'\n",
    "df = pd.read_excel(input_file, engine=\"odf\")\n",
    "\n",
    "# Process the df\n",
    "processed_df = process_dataframe(df)\n",
    "\n",
    "# Save the processed df to a new ods file\n",
    "output_file = './data/processed.ods'\n",
    "processed_df.to_excel(output_file, index=False, engine='odf')"
   ]
  }
 ],
 "metadata": {
  "kernelspec": {
   "display_name": "Python 3 (ipykernel)",
   "language": "python",
   "name": "python3"
  },
  "language_info": {
   "codemirror_mode": {
    "name": "ipython",
    "version": 3
   },
   "file_extension": ".py",
   "mimetype": "text/x-python",
   "name": "python",
   "nbconvert_exporter": "python",
   "pygments_lexer": "ipython3",
   "version": "3.10.12"
  }
 },
 "nbformat": 4,
 "nbformat_minor": 5
}
